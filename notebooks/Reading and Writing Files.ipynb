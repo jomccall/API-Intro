{
 "cells": [
  {
   "cell_type": "markdown",
   "id": "9ab94e9b",
   "metadata": {},
   "source": [
    "We're going to import pandas and geopandas and read and write some different files in."
   ]
  },
  {
   "cell_type": "code",
   "execution_count": 1,
   "id": "c5430a48",
   "metadata": {},
   "outputs": [],
   "source": [
    "import pandas as pd\n",
    "import geopandas as gpd"
   ]
  },
  {
   "cell_type": "markdown",
   "id": "f3f1d177",
   "metadata": {},
   "source": [
    "First we're going to read in a csv that I have saved in the `data` folder for this project using pandas. This is a simple csv I generated with MySidewalk's seek tool showing total population from the most recent ACS 5-Year estimates for each county in the Nashville MSA."
   ]
  },
  {
   "cell_type": "code",
   "execution_count": 3,
   "id": "12be0246",
   "metadata": {},
   "outputs": [],
   "source": [
    "population = pd.read_csv('../data/population_NashvilleMSACounties.csv')"
   ]
  },
  {
   "cell_type": "code",
   "execution_count": 4,
   "id": "8e13c056",
   "metadata": {},
   "outputs": [
    {
     "data": {
      "text/html": [
       "<div>\n",
       "<style scoped>\n",
       "    .dataframe tbody tr th:only-of-type {\n",
       "        vertical-align: middle;\n",
       "    }\n",
       "\n",
       "    .dataframe tbody tr th {\n",
       "        vertical-align: top;\n",
       "    }\n",
       "\n",
       "    .dataframe thead th {\n",
       "        text-align: right;\n",
       "    }\n",
       "</style>\n",
       "<table border=\"1\" class=\"dataframe\">\n",
       "  <thead>\n",
       "    <tr style=\"text-align: right;\">\n",
       "      <th></th>\n",
       "      <th>County</th>\n",
       "      <th>Population</th>\n",
       "    </tr>\n",
       "  </thead>\n",
       "  <tbody>\n",
       "    <tr>\n",
       "      <th>0</th>\n",
       "      <td>Cheatham County, TN</td>\n",
       "      <td>40181</td>\n",
       "    </tr>\n",
       "    <tr>\n",
       "      <th>1</th>\n",
       "      <td>Davidson County, TN</td>\n",
       "      <td>687488</td>\n",
       "    </tr>\n",
       "    <tr>\n",
       "      <th>2</th>\n",
       "      <td>Robertson County, TN</td>\n",
       "      <td>70280</td>\n",
       "    </tr>\n",
       "    <tr>\n",
       "      <th>3</th>\n",
       "      <td>Maury County, TN</td>\n",
       "      <td>91976</td>\n",
       "    </tr>\n",
       "    <tr>\n",
       "      <th>4</th>\n",
       "      <td>Dickson County, TN</td>\n",
       "      <td>52680</td>\n",
       "    </tr>\n",
       "  </tbody>\n",
       "</table>\n",
       "</div>"
      ],
      "text/plain": [
       "                 County  Population\n",
       "0   Cheatham County, TN       40181\n",
       "1   Davidson County, TN      687488\n",
       "2  Robertson County, TN       70280\n",
       "3      Maury County, TN       91976\n",
       "4    Dickson County, TN       52680"
      ]
     },
     "execution_count": 4,
     "metadata": {},
     "output_type": "execute_result"
    }
   ],
   "source": [
    "population.head()"
   ]
  },
  {
   "cell_type": "code",
   "execution_count": 5,
   "id": "9286b8c6",
   "metadata": {},
   "outputs": [
    {
     "name": "stdout",
     "output_type": "stream",
     "text": [
      "<class 'pandas.core.frame.DataFrame'>\n",
      "RangeIndex: 13 entries, 0 to 12\n",
      "Data columns (total 2 columns):\n",
      " #   Column      Non-Null Count  Dtype \n",
      "---  ------      --------------  ----- \n",
      " 0   County      13 non-null     object\n",
      " 1   Population  13 non-null     int64 \n",
      "dtypes: int64(1), object(1)\n",
      "memory usage: 336.0+ bytes\n"
     ]
    }
   ],
   "source": [
    "population.info()"
   ]
  },
  {
   "cell_type": "code",
   "execution_count": 6,
   "id": "0475b086",
   "metadata": {},
   "outputs": [
    {
     "data": {
      "text/plain": [
       "(13, 2)"
      ]
     },
     "execution_count": 6,
     "metadata": {},
     "output_type": "execute_result"
    }
   ],
   "source": [
    "population.shape"
   ]
  },
  {
   "cell_type": "markdown",
   "id": "48f45855",
   "metadata": {},
   "source": [
    "### Say that all we wanted to do was create a column that displayed the total percent population per county then export it...."
   ]
  },
  {
   "cell_type": "markdown",
   "id": "431a0ac2",
   "metadata": {},
   "source": [
    "##### First, create the variable we need to do this calculation"
   ]
  },
  {
   "cell_type": "code",
   "execution_count": 11,
   "id": "34898846",
   "metadata": {},
   "outputs": [],
   "source": [
    "#create a total population variable\n",
    "\n",
    "#we're naming the variable on the left, using the python function \"sum\", and in parenthesis stating the dataframe, then the column we're summing in square brackets\n",
    "#we know we can sum the column because we already established it is an integer datatype above\n",
    "totalpop = sum(population['Population'])"
   ]
  },
  {
   "cell_type": "code",
   "execution_count": 12,
   "id": "c8b4f61b",
   "metadata": {},
   "outputs": [
    {
     "data": {
      "text/plain": [
       "1871903"
      ]
     },
     "execution_count": 12,
     "metadata": {},
     "output_type": "execute_result"
    }
   ],
   "source": [
    "totalpop"
   ]
  },
  {
   "cell_type": "markdown",
   "id": "2f8e01fa",
   "metadata": {},
   "source": [
    "##### Now we want to create a column for percent of total population per county"
   ]
  },
  {
   "cell_type": "code",
   "execution_count": 25,
   "id": "3c19bafb",
   "metadata": {},
   "outputs": [],
   "source": [
    "#we're creating a new column called Percent in the df and setting it equal to the rounded (to two digits) result of the respective population columns/total\n",
    "population['Percent'] = round(population['Population']/totalpop,2)"
   ]
  },
  {
   "cell_type": "code",
   "execution_count": 23,
   "id": "2ce07728",
   "metadata": {},
   "outputs": [
    {
     "data": {
      "text/html": [
       "<div>\n",
       "<style scoped>\n",
       "    .dataframe tbody tr th:only-of-type {\n",
       "        vertical-align: middle;\n",
       "    }\n",
       "\n",
       "    .dataframe tbody tr th {\n",
       "        vertical-align: top;\n",
       "    }\n",
       "\n",
       "    .dataframe thead th {\n",
       "        text-align: right;\n",
       "    }\n",
       "</style>\n",
       "<table border=\"1\" class=\"dataframe\">\n",
       "  <thead>\n",
       "    <tr style=\"text-align: right;\">\n",
       "      <th></th>\n",
       "      <th>County</th>\n",
       "      <th>Population</th>\n",
       "      <th>Percent</th>\n",
       "    </tr>\n",
       "  </thead>\n",
       "  <tbody>\n",
       "    <tr>\n",
       "      <th>0</th>\n",
       "      <td>Cheatham County, TN</td>\n",
       "      <td>40181</td>\n",
       "      <td>0.02</td>\n",
       "    </tr>\n",
       "    <tr>\n",
       "      <th>1</th>\n",
       "      <td>Davidson County, TN</td>\n",
       "      <td>687488</td>\n",
       "      <td>0.37</td>\n",
       "    </tr>\n",
       "    <tr>\n",
       "      <th>2</th>\n",
       "      <td>Robertson County, TN</td>\n",
       "      <td>70280</td>\n",
       "      <td>0.04</td>\n",
       "    </tr>\n",
       "    <tr>\n",
       "      <th>3</th>\n",
       "      <td>Maury County, TN</td>\n",
       "      <td>91976</td>\n",
       "      <td>0.05</td>\n",
       "    </tr>\n",
       "    <tr>\n",
       "      <th>4</th>\n",
       "      <td>Dickson County, TN</td>\n",
       "      <td>52680</td>\n",
       "      <td>0.03</td>\n",
       "    </tr>\n",
       "    <tr>\n",
       "      <th>5</th>\n",
       "      <td>Cannon County, TN</td>\n",
       "      <td>14178</td>\n",
       "      <td>0.01</td>\n",
       "    </tr>\n",
       "    <tr>\n",
       "      <th>6</th>\n",
       "      <td>Rutherford County, TN</td>\n",
       "      <td>315815</td>\n",
       "      <td>0.17</td>\n",
       "    </tr>\n",
       "    <tr>\n",
       "      <th>7</th>\n",
       "      <td>Smith County, TN</td>\n",
       "      <td>19740</td>\n",
       "      <td>0.01</td>\n",
       "    </tr>\n",
       "    <tr>\n",
       "      <th>8</th>\n",
       "      <td>Sumner County, TN</td>\n",
       "      <td>183437</td>\n",
       "      <td>0.10</td>\n",
       "    </tr>\n",
       "    <tr>\n",
       "      <th>9</th>\n",
       "      <td>Wilson County, TN</td>\n",
       "      <td>136666</td>\n",
       "      <td>0.07</td>\n",
       "    </tr>\n",
       "    <tr>\n",
       "      <th>10</th>\n",
       "      <td>Trousdale County, TN</td>\n",
       "      <td>10231</td>\n",
       "      <td>0.01</td>\n",
       "    </tr>\n",
       "    <tr>\n",
       "      <th>11</th>\n",
       "      <td>Williamson County, TN</td>\n",
       "      <td>225389</td>\n",
       "      <td>0.12</td>\n",
       "    </tr>\n",
       "    <tr>\n",
       "      <th>12</th>\n",
       "      <td>Macon County, TN</td>\n",
       "      <td>23842</td>\n",
       "      <td>0.01</td>\n",
       "    </tr>\n",
       "  </tbody>\n",
       "</table>\n",
       "</div>"
      ],
      "text/plain": [
       "                   County  Population  Percent\n",
       "0     Cheatham County, TN       40181     0.02\n",
       "1     Davidson County, TN      687488     0.37\n",
       "2    Robertson County, TN       70280     0.04\n",
       "3        Maury County, TN       91976     0.05\n",
       "4      Dickson County, TN       52680     0.03\n",
       "5       Cannon County, TN       14178     0.01\n",
       "6   Rutherford County, TN      315815     0.17\n",
       "7        Smith County, TN       19740     0.01\n",
       "8       Sumner County, TN      183437     0.10\n",
       "9       Wilson County, TN      136666     0.07\n",
       "10   Trousdale County, TN       10231     0.01\n",
       "11  Williamson County, TN      225389     0.12\n",
       "12       Macon County, TN       23842     0.01"
      ]
     },
     "execution_count": 23,
     "metadata": {},
     "output_type": "execute_result"
    }
   ],
   "source": [
    "population"
   ]
  },
  {
   "cell_type": "code",
   "execution_count": 24,
   "id": "86c6a4d1",
   "metadata": {},
   "outputs": [
    {
     "name": "stdout",
     "output_type": "stream",
     "text": [
      "1.01\n"
     ]
    }
   ],
   "source": [
    "#check - we know the .01 is due to the rounding we did, which is fine here\n",
    "print(sum(population['Percent']))"
   ]
  },
  {
   "cell_type": "markdown",
   "id": "5b518af8",
   "metadata": {},
   "source": [
    "#### Write it!"
   ]
  },
  {
   "cell_type": "code",
   "execution_count": 27,
   "id": "5e3fd2d0",
   "metadata": {},
   "outputs": [],
   "source": [
    "population.to_csv('../data/popwithpercent.csv')\n",
    "#if you check this file you'll notice that the index (numbering on the left from 0- all data rows) is in the csv. To take this out write like below then re-open\n",
    "#the file you've overwritten to check\n",
    "population.to_csv('../data/popwithpercent.csv', index = False)"
   ]
  },
  {
   "cell_type": "code",
   "execution_count": 30,
   "id": "8e881cc5",
   "metadata": {},
   "outputs": [],
   "source": [
    "population.to_excel('../data/popwithpercent.xlsx', index = False)"
   ]
  },
  {
   "cell_type": "code",
   "execution_count": null,
   "id": "137355cf",
   "metadata": {},
   "outputs": [],
   "source": []
  }
 ],
 "metadata": {
  "kernelspec": {
   "display_name": "Python 3 (ipykernel)",
   "language": "python",
   "name": "python3"
  },
  "language_info": {
   "codemirror_mode": {
    "name": "ipython",
    "version": 3
   },
   "file_extension": ".py",
   "mimetype": "text/x-python",
   "name": "python",
   "nbconvert_exporter": "python",
   "pygments_lexer": "ipython3",
   "version": "3.8.5"
  }
 },
 "nbformat": 4,
 "nbformat_minor": 5
}
