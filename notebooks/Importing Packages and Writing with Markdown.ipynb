{
 "cells": [
  {
   "cell_type": "markdown",
   "id": "9d739e21",
   "metadata": {},
   "source": [
    "There are two different kinds of \"cells\" in jupyter notebooks that you're going to use a lot: Markdown and code. There's a drop down at the top of the page where you select which. Markdown is a platform for text. There are built-in things to create headers, italics, highlights, etc., and you can also use html commands. For example, to `bold` text, you can do one of the following:  \n",
    "\n",
    "+ <b>bold</b> (html)  \n",
    "+ **bold** (markdown shortcut)  \n",
    "\n",
    "Here is a link to a basics sheet: https://www.markdownguide.org/basic-syntax/  \n",
    "\n",
    "*Notes*  \n",
    "To skip a line, end a line with two spaces.  \n",
    "To make a cell \"run\", select `shift` + `enter` on your keyboard."
   ]
  },
  {
   "cell_type": "markdown",
   "id": "10878e61",
   "metadata": {},
   "source": [
    "# Importing packages"
   ]
  },
  {
   "cell_type": "markdown",
   "id": "2a0d9551",
   "metadata": {},
   "source": [
    "## Importing packages"
   ]
  },
  {
   "cell_type": "markdown",
   "id": "7b1bba78",
   "metadata": {},
   "source": [
    "### Importing packages"
   ]
  },
  {
   "cell_type": "markdown",
   "id": "a76e9574",
   "metadata": {},
   "source": [
    "#### Importing packages"
   ]
  },
  {
   "cell_type": "markdown",
   "id": "7bb22e56",
   "metadata": {},
   "source": [
    "##### Importing packages"
   ]
  },
  {
   "cell_type": "markdown",
   "id": "d36908c9",
   "metadata": {},
   "source": [
    "###### Importing packages"
   ]
  },
  {
   "cell_type": "markdown",
   "id": "4138887c",
   "metadata": {},
   "source": [
    "Those are all of the header options! Nice. So a package is a group of code that you can import into your environments (a file you can \"activate\" containing a group of packages ideal for a certain kind of task - for example mapping) or your notebooks. This creates a working environment where you can use functions that another coder has written in order to create visualizations, do common data manipulations, statistical analysis, machine learning, etc. Commonly you'll see imports at the top of notebooks. The next cell, a \"code\" cell, shows some extremely common imports."
   ]
  },
  {
   "cell_type": "code",
   "execution_count": 1,
   "id": "ebb2d4e3",
   "metadata": {},
   "outputs": [],
   "source": [
    "import pandas as pd\n",
    "import numpy as np\n",
    "import matplotlib"
   ]
  },
  {
   "cell_type": "markdown",
   "id": "90248520",
   "metadata": {},
   "source": [
    "These packages are both used for analysis. When you import `pandas` as `pd`, it allows you to call any function from the pandas package with that abbreviation. For example, there is a function to call a csv file in as a `dataframe` (the format that pandas uses and is conceptually the same as a nice, organized excel file with headers) that looks like this:\n",
    "\n",
    "data = pd.read_csv('../data/filename.csv')\n",
    "\n",
    "Where *data* is what you're naming your dataframe, *pd.* is calling the package's function, *read_csv* is a command from pandas, *('../data/* is the file path from the current notebook to the data you're calling in (.. goes up one directory), *filename.csv)* is the filename! We'll get more into this in the \"Reading and Writing Files\" notebook, but this is a good example here."
   ]
  },
  {
   "cell_type": "markdown",
   "id": "214991d6",
   "metadata": {},
   "source": [
    "Every package is going to have documentation. For super common ones like pandas the documentation will be very extensive. For others that you may find for a really niche task, like geocoding a certain kind of data, the documentation may be sparse and you'll have to experiment and find online examples. I'm going to list the packages that I've become familiar with and can imagine you using, and link documentation - the documentation ranges from installation and overviews to the \"API Reference\" being where you'll find direction on how to actually write the code. "
   ]
  },
  {
   "cell_type": "markdown",
   "id": "08ec47a4",
   "metadata": {},
   "source": [
    "#### Analysis  \n",
    "+ `pandas`: https://pandas.pydata.org/docs/reference/index.html   \n",
    "    THE analytics tool, just super easy data analysis, manipulation, and formatting.\n",
    "+ `numpy`: https://numpy.org/doc/stable/reference/  \n",
    "    Makes processing arrays quick and easy\n",
    "#### Visualization  \n",
    "+ `matplotlib`: https://matplotlib.org/stable/api/index.html \n",
    "    Charts and graphs, very commonly used\n",
    "+ `seaborn: https://seaborn.pydata.org/api.html  \n",
    "    Pretty visualization\n",
    "#### Mapping  \n",
    "+ `geopandas`: https://geopandas.org/en/stable/docs/reference.html  \n",
    "    Basic mapping functionality, dealing with latitudes and longitudes, etc.  \n",
    "+ `folium`: https://python-visualization.github.io/folium/  \n",
    "    Interactive maps"
   ]
  },
  {
   "cell_type": "code",
   "execution_count": 2,
   "id": "aebab1fe",
   "metadata": {},
   "outputs": [],
   "source": [
    "# You can write text in a code cell like this\n",
    "\n",
    "# You can take a paragraph\n",
    "# You can take a paragraph\n",
    "# You can take a paragraph\n",
    "# You can take a paragraph\n",
    "# And make it all commented out by selecting the whole thing and typing `ctrl` + `?` on your keyboard"
   ]
  },
  {
   "cell_type": "markdown",
   "id": "4632df88",
   "metadata": {},
   "source": [
    "Sometimes a package is really big and you only need a part of it, for example just the plotting part of matplot lib. This stack exchange question goes into that: https://stackoverflow.com/questions/36661876/what-is-the-difference-between-importing-matplotlib-and-matplotlib-pyplot  \n",
    "\n",
    "so you'd do it like the example below if you're just making a basic plot."
   ]
  },
  {
   "cell_type": "code",
   "execution_count": 3,
   "id": "860e9399",
   "metadata": {},
   "outputs": [],
   "source": [
    "import matplotlib.pyplot as plt"
   ]
  },
  {
   "cell_type": "code",
   "execution_count": null,
   "id": "9ce3dc14",
   "metadata": {},
   "outputs": [],
   "source": []
  }
 ],
 "metadata": {
  "kernelspec": {
   "display_name": "Python 3 (ipykernel)",
   "language": "python",
   "name": "python3"
  },
  "language_info": {
   "codemirror_mode": {
    "name": "ipython",
    "version": 3
   },
   "file_extension": ".py",
   "mimetype": "text/x-python",
   "name": "python",
   "nbconvert_exporter": "python",
   "pygments_lexer": "ipython3",
   "version": "3.8.5"
  }
 },
 "nbformat": 4,
 "nbformat_minor": 5
}
